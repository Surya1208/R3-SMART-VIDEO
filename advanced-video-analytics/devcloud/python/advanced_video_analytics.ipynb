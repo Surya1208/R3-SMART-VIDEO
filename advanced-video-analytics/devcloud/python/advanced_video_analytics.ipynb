{
 "cells": [
  {
   "cell_type": "markdown",
   "metadata": {},
   "source": [
    "   \n",
    "# Advanced Video Analytics\n",
    "\n",
    "The tutorial shows some techniques for developing advanced video analytics applications.\n",
    "\n",
    "### Setup the environment variables, download model files and import dependencies"
   ]
  },
  {
   "cell_type": "code",
   "execution_count": 1,
   "metadata": {},
   "outputs": [],
   "source": [
    "from IPython.display import HTML\n",
    "import os\n",
    "import time\n",
    "import sys                                     \n",
    "from pathlib import Path\n",
    "sys.path.insert(0, str(Path().resolve().parent.parent.parent))\n",
    "from demoTools.demoutils import *"
   ]
  },
  {
   "cell_type": "code",
   "execution_count": 2,
   "metadata": {
    "scrolled": true
   },
   "outputs": [
    {
     "name": "stdout",
     "output_type": "stream",
     "text": [
      "[setupvars.sh] OpenVINO environment initialized\r\n"
     ]
    }
   ],
   "source": [
    "!/opt/intel/openvino/bin/setupvars.sh"
   ]
  },
  {
   "cell_type": "code",
   "execution_count": 3,
   "metadata": {
    "scrolled": true
   },
   "outputs": [
    {
     "name": "stdout",
     "output_type": "stream",
     "text": [
      "################|| Downloading models ||################\n",
      "\n",
      "========== Downloading models/intel/person-detection-retail-0013/FP32/person-detection-retail-0013.xml\n",
      "... 100%, 152 KB, 3406 KB/s, 0 seconds passed\n",
      "\n",
      "========== Downloading models/intel/person-detection-retail-0013/FP32/person-detection-retail-0013.bin\n",
      "... 100%, 2823 KB, 29521 KB/s, 0 seconds passed\n",
      "\n",
      "========== Downloading models/intel/person-detection-retail-0013/FP16/person-detection-retail-0013.xml\n",
      "... 100%, 152 KB, 21643 KB/s, 0 seconds passed\n",
      "\n",
      "========== Downloading models/intel/person-detection-retail-0013/FP16/person-detection-retail-0013.bin\n",
      "... 100%, 1411 KB, 30383 KB/s, 0 seconds passed\n",
      "\n",
      "========== Downloading models/intel/person-detection-retail-0013/INT8/person-detection-retail-0013.xml\n",
      "... 100%, 1950 KB, 9906 KB/s, 0 seconds passed\n",
      "\n",
      "========== Downloading models/intel/person-detection-retail-0013/INT8/person-detection-retail-0013.bin\n",
      "... 100%, 2823 KB, 29574 KB/s, 0 seconds passed\n",
      "\n",
      "################|| Post-processing ||################\n",
      "\n",
      "################|| Downloading models ||################\n",
      "\n",
      "========== Downloading models/intel/face-detection-adas-0001/FP32/face-detection-adas-0001.xml\n",
      "... 100%, 87 KB, 3769 KB/s, 0 seconds passed\n",
      "\n",
      "========== Downloading models/intel/face-detection-adas-0001/FP32/face-detection-adas-0001.bin\n",
      "... 100%, 4113 KB, 28936 KB/s, 0 seconds passed\n",
      "\n",
      "========== Downloading models/intel/face-detection-adas-0001/FP16/face-detection-adas-0001.xml\n",
      "... 100%, 87 KB, 3868 KB/s, 0 seconds passed\n",
      "\n",
      "========== Downloading models/intel/face-detection-adas-0001/FP16/face-detection-adas-0001.bin\n",
      "... 100%, 2056 KB, 30064 KB/s, 0 seconds passed\n",
      "\n",
      "========== Downloading models/intel/face-detection-adas-0001/INT8/face-detection-adas-0001.xml\n",
      "... 100%, 3279 KB, 9189 KB/s, 0 seconds passed\n",
      "\n",
      "========== Downloading models/intel/face-detection-adas-0001/INT8/face-detection-adas-0001.bin\n",
      "... 100%, 4113 KB, 29410 KB/s, 0 seconds passed\n",
      "\n",
      "################|| Post-processing ||################\n",
      "\n",
      "################|| Downloading models ||################\n",
      "\n",
      "========== Downloading models/intel/face-detection-adas-0001/FP32/face-detection-adas-0001.xml\n",
      "... 100%, 87 KB, 3801 KB/s, 0 seconds passed\n",
      "\n",
      "========== Downloading models/intel/face-detection-adas-0001/FP32/face-detection-adas-0001.bin\n",
      "... 100%, 4113 KB, 29487 KB/s, 0 seconds passed\n",
      "\n",
      "========== Downloading models/intel/face-detection-adas-0001/FP16/face-detection-adas-0001.xml\n",
      "... 100%, 87 KB, 3837 KB/s, 0 seconds passed\n",
      "\n",
      "========== Downloading models/intel/face-detection-adas-0001/FP16/face-detection-adas-0001.bin\n",
      "... 100%, 2056 KB, 30118 KB/s, 0 seconds passed\n",
      "\n",
      "========== Downloading models/intel/face-detection-adas-0001/INT8/face-detection-adas-0001.xml\n",
      "... 100%, 3279 KB, 9700 KB/s, 0 seconds passed\n",
      "\n",
      "========== Downloading models/intel/face-detection-adas-0001/INT8/face-detection-adas-0001.bin\n",
      "... 100%, 4113 KB, 29433 KB/s, 0 seconds passed\n",
      "\n",
      "################|| Post-processing ||################\n",
      "\n",
      "################|| Downloading models ||################\n",
      "\n",
      "========== Downloading models/intel/head-pose-estimation-adas-0001/FP32/head-pose-estimation-adas-0001.xml\n",
      "... 100%, 17 KB, 53896 KB/s, 0 seconds passed\n",
      "\n",
      "========== Downloading models/intel/head-pose-estimation-adas-0001/FP32/head-pose-estimation-adas-0001.bin\n",
      "... 100%, 7466 KB, 28803 KB/s, 0 seconds passed\n",
      "\n",
      "========== Downloading models/intel/head-pose-estimation-adas-0001/FP16/head-pose-estimation-adas-0001.xml\n",
      "... 100%, 17 KB, 981 KB/s, 0 seconds passed\n",
      "\n",
      "========== Downloading models/intel/head-pose-estimation-adas-0001/FP16/head-pose-estimation-adas-0001.bin\n",
      "... 100%, 3733 KB, 29457 KB/s, 0 seconds passed\n",
      "\n",
      "################|| Post-processing ||################\n",
      "\n",
      "################|| Downloading models ||################\n",
      "\n",
      "========== Downloading models/intel/age-gender-recognition-retail-0013/FP32/age-gender-recognition-retail-0013.xml\n",
      "... 100%, 14 KB, 68084 KB/s, 0 seconds passed\n",
      "\n",
      "========== Downloading models/intel/age-gender-recognition-retail-0013/FP32/age-gender-recognition-retail-0013.bin\n",
      "... 100%, 8351 KB, 28672 KB/s, 0 seconds passed\n",
      "\n",
      "========== Downloading models/intel/age-gender-recognition-retail-0013/FP16/age-gender-recognition-retail-0013.xml\n",
      "... 100%, 14 KB, 83049 KB/s, 0 seconds passed\n",
      "\n",
      "========== Downloading models/intel/age-gender-recognition-retail-0013/FP16/age-gender-recognition-retail-0013.bin\n",
      "... 100%, 4175 KB, 29605 KB/s, 0 seconds passed\n",
      "\n",
      "################|| Post-processing ||################\n",
      "\n",
      "################|| Downloading models ||################\n",
      "\n",
      "========== Downloading models/intel/emotions-recognition-retail-0003/FP32/emotions-recognition-retail-0003.xml\n",
      "... 100%, 19 KB, 69922 KB/s, 0 seconds passed\n",
      "\n",
      "========== Downloading models/intel/emotions-recognition-retail-0003/FP32/emotions-recognition-retail-0003.bin\n",
      "... 100%, 9697 KB, 28719 KB/s, 0 seconds passed\n",
      "\n",
      "========== Downloading models/intel/emotions-recognition-retail-0003/FP16/emotions-recognition-retail-0003.xml\n",
      "... 100%, 19 KB, 79884 KB/s, 0 seconds passed\n",
      "\n",
      "========== Downloading models/intel/emotions-recognition-retail-0003/FP16/emotions-recognition-retail-0003.bin\n",
      "... 100%, 4848 KB, 29264 KB/s, 0 seconds passed\n",
      "\n",
      "========== Downloading models/intel/emotions-recognition-retail-0003/INT8/emotions-recognition-retail-0003.xml\n",
      "... 100%, 124 KB, 2072 KB/s, 0 seconds passed\n",
      "\n",
      "========== Downloading models/intel/emotions-recognition-retail-0003/INT8/emotions-recognition-retail-0003.bin\n",
      "... 100%, 9697 KB, 29010 KB/s, 0 seconds passed\n",
      "\n",
      "################|| Post-processing ||################\n",
      "\n",
      "################|| Downloading models ||################\n",
      "\n",
      "========== Downloading models/intel/facial-landmarks-35-adas-0002/FP32/facial-landmarks-35-adas-0002.xml\n",
      "... 100%, 108 KB, 2621 KB/s, 0 seconds passed\n",
      "\n",
      "========== Downloading models/intel/facial-landmarks-35-adas-0002/FP32/facial-landmarks-35-adas-0002.bin\n",
      "... 100%, 17950 KB, 28868 KB/s, 0 seconds passed\n",
      "\n",
      "========== Downloading models/intel/facial-landmarks-35-adas-0002/FP16/facial-landmarks-35-adas-0002.xml\n",
      "... 100%, 108 KB, 2631 KB/s, 0 seconds passed\n",
      "\n",
      "========== Downloading models/intel/facial-landmarks-35-adas-0002/FP16/facial-landmarks-35-adas-0002.bin\n",
      "... 100%, 8975 KB, 29048 KB/s, 0 seconds passed\n",
      "\n",
      "################|| Post-processing ||################\n",
      "\n",
      "################|| Downloading models ||################\n",
      "\n",
      "========== Downloading models/public/mobilenet-ssd/mobilenet-ssd.prototxt\n",
      "... 100%, 28 KB, 61166 KB/s, 0 seconds passed\n",
      "\n",
      "========== Downloading models/public/mobilenet-ssd/mobilenet-ssd.caffemodel\n",
      "... 100%, 22605 KB, 21379 KB/s, 1 seconds passed\n",
      "\n",
      "################|| Post-processing ||################\n",
      "\n",
      "################|| Downloading models ||################\n",
      "\n",
      "========== Downloading models/intel/vehicle-license-plate-detection-barrier-0106/FP32/vehicle-license-plate-detection-barrier-0106.xml\n",
      "... 100%, 97 KB, 4092 KB/s, 0 seconds passed\n",
      "\n",
      "========== Downloading models/intel/vehicle-license-plate-detection-barrier-0106/FP32/vehicle-license-plate-detection-barrier-0106.bin\n",
      "... 100%, 2512 KB, 29659 KB/s, 0 seconds passed\n",
      "\n",
      "========== Downloading models/intel/vehicle-license-plate-detection-barrier-0106/FP16/vehicle-license-plate-detection-barrier-0106.xml\n",
      "... 100%, 97 KB, 19868 KB/s, 0 seconds passed\n",
      "\n",
      "========== Downloading models/intel/vehicle-license-plate-detection-barrier-0106/FP16/vehicle-license-plate-detection-barrier-0106.bin\n",
      "... 100%, 1256 KB, 30623 KB/s, 0 seconds passed\n",
      "\n",
      "========== Downloading models/intel/vehicle-license-plate-detection-barrier-0106/INT8/vehicle-license-plate-detection-barrier-0106.xml\n",
      "... 100%, 872 KB, 10555 KB/s, 0 seconds passed\n",
      "\n",
      "========== Downloading models/intel/vehicle-license-plate-detection-barrier-0106/INT8/vehicle-license-plate-detection-barrier-0106.bin\n",
      "... 100%, 2513 KB, 29771 KB/s, 0 seconds passed\n",
      "\n",
      "################|| Post-processing ||################\n",
      "\n",
      "################|| Downloading models ||################\n",
      "\n",
      "========== Downloading models/intel/vehicle-attributes-recognition-barrier-0039/FP32/vehicle-attributes-recognition-barrier-0039.xml\n",
      "... 100%, 17 KB, 65651 KB/s, 0 seconds passed\n",
      "\n",
      "========== Downloading models/intel/vehicle-attributes-recognition-barrier-0039/FP32/vehicle-attributes-recognition-barrier-0039.bin\n",
      "... 100%, 2445 KB, 28170 KB/s, 0 seconds passed\n",
      "\n",
      "========== Downloading models/intel/vehicle-attributes-recognition-barrier-0039/FP16/vehicle-attributes-recognition-barrier-0039.xml\n",
      "... 100%, 17 KB, 88534 KB/s, 0 seconds passed\n",
      "\n",
      "========== Downloading models/intel/vehicle-attributes-recognition-barrier-0039/FP16/vehicle-attributes-recognition-barrier-0039.bin\n",
      "... 100%, 1222 KB, 30942 KB/s, 0 seconds passed\n",
      "\n",
      "========== Downloading models/intel/vehicle-attributes-recognition-barrier-0039/INT8/vehicle-attributes-recognition-barrier-0039.xml\n",
      "... 100%, 62 KB, 3016 KB/s, 0 seconds passed\n",
      "\n",
      "========== Downloading models/intel/vehicle-attributes-recognition-barrier-0039/INT8/vehicle-attributes-recognition-barrier-0039.bin\n",
      "... 100%, 2445 KB, 29314 KB/s, 0 seconds passed\n",
      "\n",
      "################|| Post-processing ||################\n",
      "\n",
      "################|| Downloading models ||################\n",
      "\n",
      "========== Downloading models/intel/license-plate-recognition-barrier-0001/FP32/license-plate-recognition-barrier-0001.xml\n",
      "... 100%, 23 KB, 12355 KB/s, 0 seconds passed\n",
      "\n",
      "========== Downloading models/intel/license-plate-recognition-barrier-0001/FP32/license-plate-recognition-barrier-0001.bin\n",
      "... 100%, 4757 KB, 28732 KB/s, 0 seconds passed\n",
      "\n",
      "========== Downloading models/intel/license-plate-recognition-barrier-0001/FP16/license-plate-recognition-barrier-0001.xml\n",
      "... 100%, 23 KB, 1269 KB/s, 0 seconds passed\n",
      "\n",
      "========== Downloading models/intel/license-plate-recognition-barrier-0001/FP16/license-plate-recognition-barrier-0001.bin\n",
      "... 100%, 2378 KB, 29893 KB/s, 0 seconds passed\n",
      "\n",
      "========== Downloading models/intel/license-plate-recognition-barrier-0001/INT8/license-plate-recognition-barrier-0001.xml\n",
      "... 100%, 109 KB, 4542 KB/s, 0 seconds passed\n",
      "\n",
      "========== Downloading models/intel/license-plate-recognition-barrier-0001/INT8/license-plate-recognition-barrier-0001.bin\n",
      "... 100%, 4757 KB, 29330 KB/s, 0 seconds passed\n",
      "\n",
      "################|| Post-processing ||################\n",
      "\n"
     ]
    }
   ],
   "source": [
    "!/opt/intel/openvino/deployment_tools/tools/model_downloader/downloader.py --name person-detection-retail-0013 -o models\n",
    "!/opt/intel/openvino/deployment_tools/tools/model_downloader/downloader.py --name face-detection-adas-0001 -o models\n",
    "!/opt/intel/openvino/deployment_tools/tools/model_downloader/downloader.py --name face-detection-adas-0001 -o models\n",
    "!/opt/intel/openvino/deployment_tools/tools/model_downloader/downloader.py --name head-pose-estimation-adas-0001 -o models\n",
    "!/opt/intel/openvino/deployment_tools/tools/model_downloader/downloader.py --name age-gender-recognition-retail-0013  -o models\n",
    "!/opt/intel/openvino/deployment_tools/tools/model_downloader/downloader.py --name emotions-recognition-retail-0003  -o models\n",
    "!/opt/intel/openvino/deployment_tools/tools/model_downloader/downloader.py --name facial-landmarks-35-adas-0002  -o models\n",
    "!/opt/intel/openvino/deployment_tools/tools/model_downloader/downloader.py --name mobilenet-ssd -o models\n",
    "!/opt/intel/openvino/deployment_tools/tools/model_downloader/downloader.py --name vehicle-license-plate-detection-barrier-0106 -o models\n",
    "!/opt/intel/openvino/deployment_tools/tools/model_downloader/downloader.py --name vehicle-attributes-recognition-barrier-0039 -o models\n",
    "!/opt/intel/openvino/deployment_tools/tools/model_downloader/downloader.py --name license-plate-recognition-barrier-0001 -o models"
   ]
  },
  {
   "cell_type": "code",
   "execution_count": 4,
   "metadata": {},
   "outputs": [
    {
     "name": "stdout",
     "output_type": "stream",
     "text": [
      "Model Optimizer arguments:\n",
      "Common parameters:\n",
      "\t- Path to the Input Model: \t/home/u33131/13Nov-SVW-R3/advanced-video-analytics/devcloud/python/models/public/mobilenet-ssd/mobilenet-ssd.caffemodel\n",
      "\t- Path for generated IR: \t/home/u33131/13Nov-SVW-R3/advanced-video-analytics/devcloud/python/models/mobilenet-ssd/FP32/\n",
      "\t- IR output name: \tmobilenet-ssd\n",
      "\t- Log level: \tERROR\n",
      "\t- Batch: \tNot specified, inherited from the model\n",
      "\t- Input layers: \tNot specified, inherited from the model\n",
      "\t- Output layers: \tNot specified, inherited from the model\n",
      "\t- Input shapes: \tNot specified, inherited from the model\n",
      "\t- Mean values: \t[127,127,127]\n",
      "\t- Scale values: \tNot specified\n",
      "\t- Scale factor: \t256.0\n",
      "\t- Precision of IR: \tFP32\n",
      "\t- Enable fusing: \tTrue\n",
      "\t- Enable grouped convolutions fusing: \tTrue\n",
      "\t- Move mean values to preprocess section: \tFalse\n",
      "\t- Reverse input channels: \tFalse\n",
      "Caffe specific parameters:\n",
      "\t- Path to Python Caffe* parser generated from caffe.proto: \t/opt/intel/openvino/deployment_tools/model_optimizer/mo/front/caffe/proto\n",
      "\t- Enable resnet optimization: \tTrue\n",
      "\t- Path to the Input prototxt: \t/home/u33131/13Nov-SVW-R3/advanced-video-analytics/devcloud/python/models/public/mobilenet-ssd/mobilenet-ssd.prototxt\n",
      "\t- Path to CustomLayersMapping.xml: \tDefault\n",
      "\t- Path to a mean file: \tNot specified\n",
      "\t- Offsets for a mean file: \tNot specified\n",
      "Model Optimizer version: \t2019.3.0-375-g332562022\n",
      "\n",
      "[ SUCCESS ] Generated IR model.\n",
      "[ SUCCESS ] XML file: /home/u33131/13Nov-SVW-R3/advanced-video-analytics/devcloud/python/models/mobilenet-ssd/FP32/mobilenet-ssd.xml\n",
      "[ SUCCESS ] BIN file: /home/u33131/13Nov-SVW-R3/advanced-video-analytics/devcloud/python/models/mobilenet-ssd/FP32/mobilenet-ssd.bin\n",
      "[ SUCCESS ] Total execution time: 6.44 seconds. \n"
     ]
    }
   ],
   "source": [
    "! python3 /opt/intel/openvino/deployment_tools/model_optimizer/mo_caffe.py --input_model models/public/mobilenet-ssd/mobilenet-ssd.caffemodel -o models/mobilenet-ssd/FP32/ --scale 256 --mean_values [127,127,127]"
   ]
  },
  {
   "cell_type": "markdown",
   "metadata": {},
   "source": [
    "## Part 1. Chaining models: Use mutiple models in an application\n",
    "\n",
    "The Intel® Distribution of OpenVINO™ toolkit package includes security barrier sample which uses 3 models to detect cars, their number plates, color and number plate attributes from the input video or image of the cars. The sample demo script is provided in the Intel® Distribution of OpenVINO™ toolkit package to run the sample."
   ]
  },
  {
   "cell_type": "markdown",
   "metadata": {},
   "source": [
    "\n",
    "    \n",
    "### 2. Run the executable for the security barrier sample with the mobilenet-ssd* model used in the first tutorial"
   ]
  },
  {
   "cell_type": "markdown",
   "metadata": {},
   "source": [
    "We will be using the below image in this example to detect multiple attributes from the input image.  "
   ]
  },
  {
   "cell_type": "code",
   "execution_count": null,
   "metadata": {},
   "outputs": [],
   "source": [
    "Image(filename='car_1.png')"
   ]
  },
  {
   "cell_type": "markdown",
   "metadata": {},
   "source": [
    "Now run the cell below to get the attributes from the image."
   ]
  },
  {
   "cell_type": "code",
   "execution_count": null,
   "metadata": {
    "scrolled": true
   },
   "outputs": [],
   "source": [
    "! python3 security_barrier_camera.py -i car_1.png -m models/mobilenet-ssd/FP32/mobilenet-ssd.xml   -l /opt/intel/openvino/deployment_tools/inference_engine/lib/intel64/libcpu_extension_avx2.so -d CPU"
   ]
  },
  {
   "cell_type": "markdown",
   "metadata": {},
   "source": [
    "### 2.1.See the Output"
   ]
  },
  {
   "cell_type": "code",
   "execution_count": null,
   "metadata": {},
   "outputs": [],
   "source": [
    "Image(filename='security.png')"
   ]
  },
  {
   "cell_type": "markdown",
   "metadata": {},
   "source": [
    "\n",
    "### 3. Run the security camera sample with Intel optimized pre-trained models\n"
   ]
  },
  {
   "cell_type": "markdown",
   "metadata": {},
   "source": [
    "Above script below run the security barrier camera example with Intel® pretrained models. In the script flags, you can see that the sample uses three pretrained models, vehicle-license-plate-detection-barrier, vehicle-attributes-recognition-barrier and license-plate-recognition-barrier to detect the car, it's make, color and license plate attributes. These pretrained models are optimized for particular tasks which yield better performance over generic object detection models. You can find more of such pretrained models under /opt/intel/openvino/deployment_tools/intel_models."
   ]
  },
  {
   "cell_type": "code",
   "execution_count": null,
   "metadata": {},
   "outputs": [],
   "source": [
    "! python3 security_barrier_camera.py -i car_1.png  -m models/intel/vehicle-license-plate-detection-barrier-0106/FP32/vehicle-license-plate-detection-barrier-0106.xml -m_va models/intel/vehicle-attributes-recognition-barrier-0039/FP32/vehicle-attributes-recognition-barrier-0039.xml -m_lpr models/intel/license-plate-recognition-barrier-0001/FP32/license-plate-recognition-barrier-0001.xml -l /opt/intel/openvino/deployment_tools/inference_engine/lib/intel64/libcpu_extension_avx2.so -d CPU"
   ]
  },
  {
   "cell_type": "markdown",
   "metadata": {},
   "source": [
    "Following car image will appear the at end of the above command execution. It shows the detection of the car, number plate, its attributes and color. You can view the file by running the cell below"
   ]
  },
  {
   "cell_type": "code",
   "execution_count": null,
   "metadata": {},
   "outputs": [],
   "source": [
    "Image(filename='security.png')"
   ]
  },
  {
   "cell_type": "markdown",
   "metadata": {},
   "source": [
    "\n",
    "\n",
    "\n",
    "\n",
    "\n",
    "## Part 2. Use multiple models on different hardware\n",
    "\n",
    "### 0. Initialize the environmental variables"
   ]
  },
  {
   "cell_type": "code",
   "execution_count": null,
   "metadata": {},
   "outputs": [],
   "source": [
    "!/opt/intel/openvino/bin/setupvars.sh"
   ]
  },
  {
   "cell_type": "markdown",
   "metadata": {},
   "source": [
    "\n",
    "### 1. Let's look at the face detection sample from the Intel® Distribution of OpenVINO™ toolkit package"
   ]
  },
  {
   "cell_type": "code",
   "execution_count": null,
   "metadata": {},
   "outputs": [],
   "source": [
    "!python3 interactive_face_detection.py -h"
   ]
  },
  {
   "cell_type": "markdown",
   "metadata": {},
   "source": [
    "### 2. Set path to the Input Video"
   ]
  },
  {
   "cell_type": "code",
   "execution_count": null,
   "metadata": {},
   "outputs": [],
   "source": [
    "os.environ[\"VIDEO\"] = \"head-pose-female-male.mp4\""
   ]
  },
  {
   "cell_type": "markdown",
   "metadata": {},
   "source": [
    "We will be using the below video in this example to detect multiple features from the input video.  "
   ]
  },
  {
   "cell_type": "code",
   "execution_count": null,
   "metadata": {},
   "outputs": [],
   "source": [
    "videoHTML('Sample Video', \n",
    "          ['head-pose-female-male.mp4'])"
   ]
  },
  {
   "cell_type": "markdown",
   "metadata": {},
   "source": [
    "\n",
    "\n",
    "### 3. Run the face demo, face detection only, on the Intel® Movidius™ Neural Compute stick\n",
    "\n",
    "\n",
    "#### Create Job Script \n",
    "\n",
    "We will run the workload on several DevCloud's edge compute nodes. We will send work to the edge compute nodes by submitting jobs into a queue. For each job, we will specify the type of the edge compute server that must be allocated for the job.\n",
    "\n",
    "To pass the specific variables to the Python code, we will use following arguments:\n",
    "\n",
    "* `-1`&nbsp;&nbsp;&nbsp;&nbsp;&nbsp;&nbsp;Location of the output file \n",
    "* `-2`&nbsp;&nbsp;&nbsp;&nbsp;&nbsp;&nbsp;Location of the input video\n",
    "\n",
    "The job file will be executed directly on the edge compute node."
   ]
  },
  {
   "cell_type": "code",
   "execution_count": null,
   "metadata": {},
   "outputs": [],
   "source": [
    "%%writefile infer_face.sh\n",
    "cd $PBS_O_WORKDIR\n",
    "mkdir -p $1\n",
    "python3 interactive_face_detection.py   -m models/intel/face-detection-adas-0001/FP16/face-detection-adas-0001.xml \\\n",
    "                            -i $2 \\\n",
    "                            -o $1 \\\n",
    "                            -d MYRIAD \\\n",
    "                            -l /opt/intel/openvino/deployment_tools/inference_engine/lib/intel64/libcpu_extension_avx2.so "
   ]
  },
  {
   "cell_type": "code",
   "execution_count": null,
   "metadata": {
    "scrolled": true
   },
   "outputs": [],
   "source": [
    "#Submit job to the queue\n",
    "job_id_face = !qsub infer_face.sh -l nodes=1:idc004nc2:intel-ncs2 -F \"results/ncs2_face/ $VIDEO\" -N obj_det_face\n",
    "print(job_id_face[0]) \n",
    "#Progress indicators\n",
    "if job_id_face:\n",
    "    progressIndicator('results/ncs2_face', 'i_progress.txt', \"Inferencing\", 0, 100)\n"
   ]
  },
  {
   "cell_type": "code",
   "execution_count": null,
   "metadata": {},
   "outputs": [],
   "source": [
    "videoHTML('Face Detection [MYRIAD] :', \n",
    "          ['results/ncs2_face/face.mp4'])"
   ]
  },
  {
   "cell_type": "markdown",
   "metadata": {},
   "source": [
    "\n",
    "    \n",
    "### 4. Now we add (to the face detection) also an age and gender detection, running on the CPU"
   ]
  },
  {
   "cell_type": "code",
   "execution_count": null,
   "metadata": {
    "scrolled": true
   },
   "outputs": [],
   "source": [
    "%%writefile infer_ag.sh\n",
    "cd $PBS_O_WORKDIR\n",
    "mkdir -p $1\n",
    "python3 interactive_face_detection.py   -m models/intel/face-detection-adas-0001/FP16/face-detection-adas-0001.xml \\\n",
    "                            -i ${2} \\\n",
    "                            -o ${1} \\\n",
    "                            -d MYRIAD \\\n",
    "                            -d_ag CPU -m_ag models/intel/age-gender-recognition-retail-0013/FP32/age-gender-recognition-retail-0013.xml \\\n",
    "                            -l /opt/intel/openvino/deployment_tools/inference_engine/lib/intel64/libcpu_extension_avx2.so"
   ]
  },
  {
   "cell_type": "code",
   "execution_count": null,
   "metadata": {
    "scrolled": true
   },
   "outputs": [],
   "source": [
    "#Submit job to the queue\n",
    "job_id_ag = !qsub infer_ag.sh -l nodes=1:idc004nc2:intel-ncs2 -F \"results/ncs2_ag/ $VIDEO\" -N obj_det_ag\n",
    "print(job_id_ag[0]) \n",
    "#Progress indicators\n",
    "if job_id_ag:\n",
    "    progressIndicator('results/ncs2_ag', 'i_progress.txt', \"Inferencing\", 0, 100)"
   ]
  },
  {
   "cell_type": "code",
   "execution_count": null,
   "metadata": {},
   "outputs": [],
   "source": [
    "videoHTML('Face Detection [MYRIAD], Age/Gender [GPU] :', \n",
    "          ['results/ncs2_ag/face.mp4'])"
   ]
  },
  {
   "cell_type": "markdown",
   "metadata": {},
   "source": [
    "\n",
    "\n",
    "### 5. Now we’ll add an head position detection, running on the GPU"
   ]
  },
  {
   "cell_type": "code",
   "execution_count": null,
   "metadata": {
    "scrolled": true
   },
   "outputs": [],
   "source": [
    "%%writefile infer_hp.sh\n",
    "\n",
    "#The default path for the job is your home directory, so we change directory to where the files are.\n",
    "cd $PBS_O_WORKDIR\n",
    "mkdir -p $1\n",
    "\n",
    "python3 interactive_face_detection.py   -m models/intel/face-detection-adas-0001/FP16/face-detection-adas-0001.xml\\\n",
    "                            -i ${2} \\\n",
    "                            -o ${1} \\\n",
    "                            -d MYRIAD \\\n",
    "                            -d_ag CPU -m_ag models/intel/age-gender-recognition-retail-0013/FP32/age-gender-recognition-retail-0013.xml \\\n",
    "                            -d_hp GPU -m_hp models/intel/head-pose-estimation-adas-0001/FP16/head-pose-estimation-adas-0001.xml \\\n",
    "                            -l  /opt/intel/openvino/deployment_tools/inference_engine/lib/intel64/libcpu_extension_avx2.so"
   ]
  },
  {
   "cell_type": "code",
   "execution_count": null,
   "metadata": {},
   "outputs": [],
   "source": [
    "#Submit job to the queue\n",
    "job_id_hp = !qsub infer_hp.sh -l nodes=1:idc004nc2:intel-ncs2 -F \"results/ncs2_hp/ $VIDEO\" -N obj_det_hp\n",
    "print(job_id_hp[0]) \n",
    "#Progress indicators\n",
    "if job_id_hp:\n",
    "    progressIndicator('results/ncs2_hp', 'i_progress.txt', \"Inferencing\", 0, 100)"
   ]
  },
  {
   "cell_type": "code",
   "execution_count": null,
   "metadata": {},
   "outputs": [],
   "source": [
    "videoHTML('Face Detection[MYRIAD] | Age/Gender[CPU] | Head Pose [GPU] :', \n",
    "          ['results/ncs2_hp/face.mp4' ]\n",
    "          )"
   ]
  },
  {
   "cell_type": "markdown",
   "metadata": {},
   "source": [
    "\n",
    "\n",
    "### 6. Now we’ll add an emotion detector, running on the GPU"
   ]
  },
  {
   "cell_type": "code",
   "execution_count": null,
   "metadata": {},
   "outputs": [],
   "source": [
    "%%writefile infer_ed.sh\n",
    "#The default path for the job is your home directory, so we change directory to where the files are.\n",
    "cd $PBS_O_WORKDIR\n",
    "mkdir -p $1\n",
    "python3 interactive_face_detection.py   -m models/intel/face-detection-adas-0001/FP16/face-detection-adas-0001.xml\\\n",
    "                            -i ${2} \\\n",
    "                            -o ${1} \\\n",
    "                            -d MYRIAD \\\n",
    "                            -d_ag CPU -m_ag  models/intel/age-gender-recognition-retail-0013/FP32/age-gender-recognition-retail-0013.xml \\\n",
    "                            -d_hp GPU -m_hp models/intel/head-pose-estimation-adas-0001/FP16/head-pose-estimation-adas-0001.xml\\\n",
    "                            -d_em GPU -m_em models/intel/emotions-recognition-retail-0003/FP16/emotions-recognition-retail-0003.xml \\\n",
    "                            -l /opt/intel/openvino/deployment_tools/inference_engine/lib/intel64/libcpu_extension_avx2.so"
   ]
  },
  {
   "cell_type": "code",
   "execution_count": null,
   "metadata": {},
   "outputs": [],
   "source": [
    "#Submit job to the queue\n",
    "job_id_ed = !qsub infer_ed.sh -l nodes=1:idc004nc2:intel-ncs2 -F \"results/ncs2_ed/ $VIDEO\" -N obj_det_ed\n",
    "print(job_id_ed[0]) \n",
    "#Progress indicators\n",
    "if job_id_ed:\n",
    "    progressIndicator('results/ncs2_ed', 'i_progress.txt', \"Inferencing\", 0, 100)"
   ]
  },
  {
   "cell_type": "code",
   "execution_count": null,
   "metadata": {},
   "outputs": [],
   "source": [
    "videoHTML('Face Detection[MYRIAD] | Age/Gender[CPU] | Head Pose, Emotion [GPU] ', \n",
    "          ['results/ncs2_ed/face.mp4' ]\n",
    "          )"
   ]
  },
  {
   "cell_type": "markdown",
   "metadata": {},
   "source": [
    "\n",
    "\n",
    "### 7. Now let's add facial landmarks detector, running on the CPU"
   ]
  },
  {
   "cell_type": "code",
   "execution_count": null,
   "metadata": {},
   "outputs": [],
   "source": [
    "%%writefile infer_lm.sh\n",
    "\n",
    "#The default path for the job is your home directory, so we change directory to where the files are.\n",
    "cd $PBS_O_WORKDIR\n",
    "mkdir -p $1\n",
    "python3 interactive_face_detection.py   -m models/intel/face-detection-adas-0001/FP16/face-detection-adas-0001.xml\\\n",
    "                            -i ${2} \\\n",
    "                            -o ${1} \\\n",
    "                            -d MYRIAD \\\n",
    "                            -d_ag CPU -m_ag models/intel/age-gender-recognition-retail-0013/FP32/age-gender-recognition-retail-0013.xml \\\n",
    "                            -d_hp GPU -m_hp models/intel/head-pose-estimation-adas-0001/FP16/head-pose-estimation-adas-0001.xml \\\n",
    "                            -d_em GPU -m_em models/intel/emotions-recognition-retail-0003/FP16/emotions-recognition-retail-0003.xml \\\n",
    "                            -d_lm CPU -m_lm models/intel/facial-landmarks-35-adas-0002/FP16/facial-landmarks-35-adas-0002.xml \\\n",
    "                            -l /opt/intel/openvino/deployment_tools/inference_engine/lib/intel64/libcpu_extension_avx2.so"
   ]
  },
  {
   "cell_type": "code",
   "execution_count": null,
   "metadata": {
    "scrolled": true
   },
   "outputs": [],
   "source": [
    "#Submit job to the queue\n",
    "job_id_lm = !qsub infer_lm.sh -l nodes=1:idc004nc2:intel-ncs2 -F \"results/ncs2_lm/ $VIDEO\" -N obj_det_lm\n",
    "print(job_id_lm[0]) \n",
    "#Progress indicators\n",
    "if job_id_lm:\n",
    "    progressIndicator('results/ncs2_lm', 'i_progress.txt', \"Inferencing\", 0, 100)\n"
   ]
  },
  {
   "cell_type": "code",
   "execution_count": null,
   "metadata": {
    "scrolled": false
   },
   "outputs": [],
   "source": [
    "videoHTML('Face Detection[MYRIAD] | Head Pose, Emotion [GPU] | Age/Gender, Landmarks [CPU]', \n",
    "          ['results/ncs2_lm/face.mp4' ]\n",
    "          )"
   ]
  }
 ],
 "metadata": {
  "kernelspec": {
   "display_name": "Python 3 (Ubuntu)",
   "language": "python",
   "name": "c003-python_3"
  },
  "language_info": {
   "codemirror_mode": {
    "name": "ipython",
    "version": 3
   },
   "file_extension": ".py",
   "mimetype": "text/x-python",
   "name": "python",
   "nbconvert_exporter": "python",
   "pygments_lexer": "ipython3",
   "version": "3.6.8"
  }
 },
 "nbformat": 4,
 "nbformat_minor": 2
}
